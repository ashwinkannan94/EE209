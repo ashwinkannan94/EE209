{
 "cells": [
  {
   "cell_type": "markdown",
   "metadata": {
    "collapsed": true
   },
   "source": [
    "## Question 2a"
   ]
  },
  {
   "cell_type": "code",
   "execution_count": 20,
   "metadata": {
    "collapsed": true
   },
   "outputs": [],
   "source": [
    "import random\n",
    "import numpy as np\n",
    "import matplotlib.pyplot as plt\n",
    "import matplotlib.patches as patches"
   ]
  },
  {
   "cell_type": "code",
   "execution_count": 8,
   "metadata": {
    "collapsed": true
   },
   "outputs": [],
   "source": [
    "# define the goal point\n",
    "goal = (25,10)\n",
    "\n",
    "# define all other points\n",
    "point_a = (random.randint(0,25), random.randint(0,25))\n",
    "point_b = (random.randint(0,25), random.randint(0,25))\n",
    "point_c = (random.randint(0,25), random.randint(0,25))\n",
    "point_d = (random.randint(0,25), random.randint(0,25))\n",
    "point_e = (random.randint(0,25), random.randint(0,25))\n",
    "\n",
    "# create a list of all points\n",
    "point_list = [point_a, point_b, point_c, point_d, point_e]"
   ]
  },
  {
   "cell_type": "code",
   "execution_count": 18,
   "metadata": {
    "collapsed": true
   },
   "outputs": [],
   "source": [
    "#function to find the distance between 2 points\n",
    "\n",
    "def get_distance(point1, point2):\n",
    "    if len(point1) != 2 or len(point2) != 2:\n",
    "        return 'please provide x,y coordinates for each point'\n",
    "    x_1 = point1[0]\n",
    "    y_1 = point1[1]\n",
    "    x_2 = point2[0]\n",
    "    y_2 = point2[1]\n",
    "    \n",
    "    euclidean_distance = np.sqrt((x_1-x_2)**2 + (y_1-y_2)**2)\n",
    "    return euclidean_distance"
   ]
  },
  {
   "cell_type": "code",
   "execution_count": 10,
   "metadata": {},
   "outputs": [
    {
     "name": "stdout",
     "output_type": "stream",
     "text": [
      "the closest point is :  (25, 19)\n"
     ]
    },
    {
     "data": {
      "image/png": "[encoded data removed]",
      "text/plain": [
       "<matplotlib.figure.Figure at 0x10d441e10>"
      ]
     },
     "metadata": {},
     "output_type": "display_data"
    }
   ],
   "source": [
    "# find the closest point\n",
    "distance = []\n",
    "for point in point_list:\n",
    "    distance.append(get_distance(goal, point))\n",
    "\n",
    "smallest_distance_index = distance.index(min(distance))\n",
    "closest_point = point_list[smallest_distance_index]\n",
    "print('the closest point is : ', closest_point)\n",
    "# plot out all of the points\n",
    "for point in point_list:\n",
    "    plt.scatter(point[0], point[1], marker = '.', c='b')\n",
    "plt.scatter(closest_point[0], closest_point[1], marker='*', c='k')\n",
    "plt.scatter(goal[0], goal[1],  marker='D', c='r')\n",
    "plt.show()"
   ]
  },
  {
   "cell_type": "markdown",
   "metadata": {},
   "source": [
    "## Quetion 2c"
   ]
  },
  {
   "cell_type": "code",
   "execution_count": 15,
   "metadata": {
    "collapsed": true
   },
   "outputs": [],
   "source": [
    "# first initialize the grid\n",
    "\n",
    "grid_width = 750\n",
    "grid_length = 500\n",
    "\n",
    "border = []\n",
    "for i in range(grid_length):\n",
    "    border.append((0, i))\n",
    "    border.append((750,i))\n",
    "for i in range(grid_width):\n",
    "    border.append((i, 0))\n",
    "    border.append((i,500))\n",
    "\n"
   ]
  },
  {
   "cell_type": "code",
   "execution_count": 12,
   "metadata": {},
   "outputs": [
    {
     "data": {
      "image/png": "[encoded data removed]",
      "text/plain": [
       "<matplotlib.figure.Figure at 0x1157527b8>"
      ]
     },
     "metadata": {},
     "output_type": "display_data"
    }
   ],
   "source": [
    "# initialize the obstacle\n",
    "\n",
    "# want it to be a rectangle at position (400,300) of size (20, 40)\n",
    "\n",
    "obstacle = []\n",
    "inside_obstacle = []\n",
    "obstacle1_length = 20\n",
    "obstacle1_width = 40\n",
    "obstacle1_x = 400\n",
    "obstacle1_y = 300\n",
    "\n",
    "for i in range(obstacle1_x,obstacle1_x+obstacle1_width):\n",
    "    obstacle.append((i, obstacle1_y))\n",
    "    obstacle.append((i, obstacle1_y+obstacle1_length))\n",
    "for i in range(obstacle1_y, obstacle1_y+obstacle1_length):\n",
    "    obstacle.append((obstacle1_x, i))\n",
    "    obstacle.append((obstacle1_x+obstacle1_width, i))\n",
    "for i in range(obstacle1_x,obstacle1_x+obstacle1_width):\n",
    "    for j in range(obstacle1_y, obstacle1_y+obstacle1_length):\n",
    "        inside_obstacle.append((i,j))\n",
    "plt.figure(figsize=(15, 10))\n",
    "for border_point in border:\n",
    "    plt.scatter(border_point[0], border_point[1], c='b', marker = '.')\n",
    "for obstacle_point in obstacle:\n",
    "    plt.scatter(obstacle_point[0], obstacle_point[1], c='r', marker = '.')\n",
    "plt.show()"
   ]
  },
  {
   "cell_type": "code",
   "execution_count": 13,
   "metadata": {
    "collapsed": true
   },
   "outputs": [],
   "source": [
    "# get all the valid points\n",
    "\n",
    "valid_points = []\n",
    "for i in range(grid_width):\n",
    "    for j in range(grid_length):\n",
    "        if (i,j) in inside_obstacle:\n",
    "            pass\n",
    "        valid_points.append((i,j))"
   ]
  },
  {
   "cell_type": "code",
   "execution_count": 14,
   "metadata": {
    "collapsed": true
   },
   "outputs": [],
   "source": [
    "# using valid points and distance, assuming robot is a circle, find all points which are the radius away from the border\n",
    "\n",
    "c_space_border_overlap = []\n",
    "for point in valid_points:\n",
    "    for obstacle_point in obstacle:\n",
    "        if get_distance(point, obstacle_point) == 40:\n",
    "            c_space_border_overlap.append(point)"
   ]
  },
  {
   "cell_type": "code",
   "execution_count": 15,
   "metadata": {
    "collapsed": true
   },
   "outputs": [],
   "source": [
    "max_x = max(c_space_border_overlap,key=lambda item:item[0])[0]\n",
    "min_x = min(c_space_border_overlap,key=lambda item:item[0])[0]\n",
    "max_y = max(c_space_border_overlap,key=lambda item:item[1])[1]\n",
    "min_y = min(c_space_border_overlap,key=lambda item:item[1])[1]"
   ]
  },
  {
   "cell_type": "code",
   "execution_count": 16,
   "metadata": {
    "collapsed": true
   },
   "outputs": [],
   "source": [
    "c_space_border = []\n",
    "for x in range(min_x, max_x):\n",
    "    for y in range(min_y, max_y):\n",
    "        c_space_border.append((x,y))"
   ]
  },
  {
   "cell_type": "code",
   "execution_count": 17,
   "metadata": {},
   "outputs": [
    {
     "data": {
      "image/png": "[encoded data removed]",
      "text/plain": [
       "<matplotlib.figure.Figure at 0x10d441390>"
      ]
     },
     "metadata": {},
     "output_type": "display_data"
    }
   ],
   "source": [
    "plt.figure(figsize=(15, 10))\n",
    "for border_point in border:\n",
    "    plt.scatter(border_point[0], border_point[1], c='b', marker = '.')\n",
    "for obstacle_point in c_space_border:\n",
    "    plt.scatter(obstacle_point[0], obstacle_point[1], c='r', marker = '.')\n",
    "plt.show()"
   ]
  },
  {
   "cell_type": "markdown",
   "metadata": {},
   "source": [
    "### Let us try the same thing above for multiple obstacles"
   ]
  },
  {
   "cell_type": "code",
   "execution_count": 5,
   "metadata": {
    "collapsed": true
   },
   "outputs": [],
   "source": [
    "obstacle_list = []\n",
    "\n",
    "# let us make a function that takes in 4 arguments and outputs one list which has all 4 items\n",
    "def create_obstacle(obstacle_length, obstacle_width, obstacle_x, obstacle_y):\n",
    "    obstacle_list.append((obstacle_length, obstacle_width, obstacle_x, obstacle_y))\n",
    "\n",
    "\n",
    "obstacle1_length = 20\n",
    "obstacle1_width = 40\n",
    "obstacle1_x = 400\n",
    "obstacle1_y = 300\n",
    "obstacle2_length = 20\n",
    "obstacle2_width = 40\n",
    "obstacle2_x = 400\n",
    "obstacle2_y = 100\n",
    "# create the 2 obstacles using the function above\n",
    "create_obstacle(obstacle1_length, obstacle1_width, obstacle1_x, obstacle1_y)\n",
    "create_obstacle(obstacle2_length, obstacle2_width, obstacle2_x, obstacle2_y)"
   ]
  },
  {
   "cell_type": "code",
   "execution_count": 11,
   "metadata": {
    "collapsed": true
   },
   "outputs": [],
   "source": [
    "def make_and_plot_obstacle(obstacle_list):\n",
    "    obstacle = [[] for _ in range(len(obstacle_list))]\n",
    "    inside_obstacle = [[] for _ in range(len(obstacle_list))]\n",
    "    for i in range(len(obstacle_list)):\n",
    "        obstacle_length = obstacle_list[i][0]\n",
    "        obstacle_width = obstacle_list[i][1]\n",
    "        obstacle_x = obstacle_list[i][2]\n",
    "        obstacle_y = obstacle_list[i][3]\n",
    "        for j in range(obstacle_x,obstacle_x+obstacle_width):\n",
    "            obstacle[i].append((j, obstacle_y))\n",
    "            obstacle[i].append((j, obstacle_y+obstacle_length))\n",
    "        for k in range(obstacle_y, obstacle_y+obstacle_length):\n",
    "            obstacle[i].append((obstacle_x, k))\n",
    "            obstacle[i].append((obstacle_x+obstacle_width, k))\n",
    "        for a in range(obstacle_x,obstacle_x+obstacle_width):\n",
    "            for b in range(obstacle_y, obstacle_y+obstacle_length):\n",
    "                inside_obstacle[i].append((a,b))\n",
    "    return obstacle, inside_obstacle"
   ]
  },
  {
   "cell_type": "code",
   "execution_count": 12,
   "metadata": {
    "collapsed": true
   },
   "outputs": [],
   "source": [
    "obstacle, inside_obstacle = make_and_plot_obstacle(obstacle_list=obstacle_list)"
   ]
  },
  {
   "cell_type": "code",
   "execution_count": 16,
   "metadata": {},
   "outputs": [],
   "source": [
    "valid_points = []\n",
    "for i in range(grid_width):\n",
    "    for j in range(grid_length):\n",
    "        for k in range(len(inside_obstacle)):\n",
    "            if (i,j) in inside_obstacle[k]:\n",
    "                pass\n",
    "            valid_points.append((i,j))"
   ]
  },
  {
   "cell_type": "code",
   "execution_count": 22,
   "metadata": {},
   "outputs": [],
   "source": [
    "c_space_border_overlap = [[] for _ in range(len(obstacle_list))]\n",
    "for point in valid_points:\n",
    "    for i in range(len(obstacle)):\n",
    "        for obstacle_point in obstacle[i]:\n",
    "            if get_distance(point, obstacle_point) == 40:\n",
    "                c_space_border_overlap[i].append(point)"
   ]
  },
  {
   "cell_type": "code",
   "execution_count": 23,
   "metadata": {
    "collapsed": true
   },
   "outputs": [],
   "source": [
    "c_space_border = []\n",
    "for i in range(len(c_space_border_overlap)):\n",
    "    max_x = max(c_space_border_overlap[i],key=lambda item:item[0])[0]\n",
    "    min_x = min(c_space_border_overlap[i],key=lambda item:item[0])[0]\n",
    "    max_y = max(c_space_border_overlap[i],key=lambda item:item[1])[1]\n",
    "    min_y = min(c_space_border_overlap[i],key=lambda item:item[1])[1]\n",
    "    for x in range(min_x, max_x):\n",
    "        for y in range(min_y, max_y):\n",
    "            c_space_border.append((x,y))"
   ]
  },
  {
   "cell_type": "code",
   "execution_count": 24,
   "metadata": {},
   "outputs": [
    {
     "data": {
      "image/png": "[encoded data removed]",
      "text/plain": [
       "<matplotlib.figure.Figure at 0x1185e9198>"
      ]
     },
     "metadata": {},
     "output_type": "display_data"
    }
   ],
   "source": [
    "plt.figure(figsize=(15, 10))\n",
    "for border_point in border:\n",
    "    plt.scatter(border_point[0], border_point[1], c='b', marker = '.')\n",
    "for obstacle_point in c_space_border:\n",
    "    plt.scatter(obstacle_point[0], obstacle_point[1], c='r', marker = '.')\n",
    "plt.show()"
   ]
  },
  {
   "cell_type": "markdown",
   "metadata": {
    "collapsed": true
   },
   "source": [
    "## Part 2d"
   ]
  },
  {
   "cell_type": "code",
   "execution_count": 28,
   "metadata": {
    "collapsed": true
   },
   "outputs": [],
   "source": [
    "# Determining if the trajectory is collision free is very simple. Make sure no trajectory points are in the c-space-points\n",
    "\n",
    "def check_if_trajectory_collision_free(trajectory, c_space_border):\n",
    "    collision_points = [x for x in trajectory if x in c_space_border]\n",
    "    if len(collision_points) == 0:\n",
    "        print('Collision free')\n",
    "    else:\n",
    "        print('Not collision free')"
   ]
  },
  {
   "cell_type": "code",
   "execution_count": 29,
   "metadata": {
    "collapsed": true
   },
   "outputs": [],
   "source": [
    "# let us do a sample\n",
    "\n",
    "trajectory = []\n",
    "for i in range(100, 600):\n",
    "    trajectory.append((i,200))"
   ]
  },
  {
   "cell_type": "code",
   "execution_count": 30,
   "metadata": {},
   "outputs": [
    {
     "name": "stdout",
     "output_type": "stream",
     "text": [
      "Collision free\n"
     ]
    }
   ],
   "source": [
    "# this one should return true and collision free\n",
    "check_if_trajectory_collision_free(trajectory, c_space_border)"
   ]
  },
  {
   "cell_type": "code",
   "execution_count": 31,
   "metadata": {
    "collapsed": true
   },
   "outputs": [],
   "source": [
    "trajectory_false = []\n",
    "for i in range(100,600):\n",
    "    trajectory_false.append((i,100))"
   ]
  },
  {
   "cell_type": "code",
   "execution_count": 32,
   "metadata": {},
   "outputs": [
    {
     "name": "stdout",
     "output_type": "stream",
     "text": [
      "Not collision free\n"
     ]
    }
   ],
   "source": [
    "# this one should return false and not collision free\n",
    "check_if_trajectory_collision_free(trajectory_false, c_space_border)"
   ]
  },
  {
   "cell_type": "markdown",
   "metadata": {},
   "source": [
    "## Part 2e"
   ]
  },
  {
   "cell_type": "code",
   "execution_count": null,
   "metadata": {
    "collapsed": true
   },
   "outputs": [],
   "source": []
  }
 ],
 "metadata": {
  "kernelspec": {
   "display_name": "Python 3",
   "language": "python",
   "name": "python3"
  },
  "language_info": {
   "codemirror_mode": {
    "name": "ipython",
    "version": 3
   },
   "file_extension": ".py",
   "mimetype": "text/x-python",
   "name": "python",
   "nbconvert_exporter": "python",
   "pygments_lexer": "ipython3",
   "version": "3.6.3"
  }
 },
 "nbformat": 4,
 "nbformat_minor": 2
}
