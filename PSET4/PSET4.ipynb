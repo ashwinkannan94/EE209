{
 "cells": [
  {
   "cell_type": "markdown",
   "metadata": {
    "collapsed": true
   },
   "source": [
    "## Question 2a"
   ]
  },
  {
   "cell_type": "code",
   "execution_count": 1,
   "metadata": {
    "collapsed": true
   },
   "outputs": [],
   "source": [
    "import random\n",
    "import numpy as np\n",
    "import matplotlib.pyplot as plt\n",
    "import matplotlib.patches as patches"
   ]
  },
  {
   "cell_type": "code",
   "execution_count": 2,
   "metadata": {
    "collapsed": true
   },
   "outputs": [],
   "source": [
    "# define the goal point\n",
    "goal = (25,10)\n",
    "\n",
    "# define all other points\n",
    "point_a = (random.randint(0,25), random.randint(0,25))\n",
    "point_b = (random.randint(0,25), random.randint(0,25))\n",
    "point_c = (random.randint(0,25), random.randint(0,25))\n",
    "point_d = (random.randint(0,25), random.randint(0,25))\n",
    "point_e = (random.randint(0,25), random.randint(0,25))\n",
    "\n",
    "# create a list of all points\n",
    "point_list = [point_a, point_b, point_c, point_d, point_e]"
   ]
  },
  {
   "cell_type": "code",
   "execution_count": 3,
   "metadata": {
    "collapsed": true
   },
   "outputs": [],
   "source": [
    "#function to find the distance between 2 points\n",
    "\n",
    "def get_distance(point1, point2):\n",
    "    if len(point1) != 2 or len(point2) != 2:\n",
    "        return 'please provide x,y coordinates for each point'\n",
    "    x_1 = point1[0]\n",
    "    y_1 = point1[1]\n",
    "    x_2 = point2[0]\n",
    "    y_2 = point2[1]\n",
    "    \n",
    "    euclidean_distance = np.sqrt((x_1-x_2)**2 + (y_1-y_2)**2)\n",
    "    return euclidean_distance"
   ]
  },
  {
   "cell_type": "code",
   "execution_count": 4,
   "metadata": {},
   "outputs": [
    {
     "name": "stdout",
     "output_type": "stream",
     "text": [
      "the closest point is :  (14, 12)\n"
     ]
    },
    {
     "data": {
      "image/png": "[encoded data removed]",
      "text/plain": [
       "<matplotlib.figure.Figure at 0x1097d9358>"
      ]
     },
     "metadata": {},
     "output_type": "display_data"
    }
   ],
   "source": [
    "# find the closest point\n",
    "distance = []\n",
    "for point in point_list:\n",
    "    distance.append(get_distance(goal, point))\n",
    "\n",
    "smallest_distance_index = distance.index(min(distance))\n",
    "closest_point = point_list[smallest_distance_index]\n",
    "print('the closest point is : ', closest_point)\n",
    "# plot out all of the points\n",
    "for point in point_list:\n",
    "    plt.scatter(point[0], point[1], marker = '.', c='b')\n",
    "plt.scatter(closest_point[0], closest_point[1], marker='*', c='k')\n",
    "plt.scatter(goal[0], goal[1],  marker='D', c='r')\n",
    "plt.show()"
   ]
  },
  {
   "cell_type": "markdown",
   "metadata": {},
   "source": [
    "## Quetion 2c"
   ]
  },
  {
   "cell_type": "code",
   "execution_count": 5,
   "metadata": {
    "collapsed": true
   },
   "outputs": [],
   "source": [
    "# first initialize the grid\n",
    "\n",
    "grid_width = 750\n",
    "grid_length = 500\n",
    "\n",
    "border = []\n",
    "for i in range(grid_length):\n",
    "    border.append((0, i))\n",
    "    border.append((750,i))\n",
    "for i in range(grid_width):\n",
    "    border.append((i, 0))\n",
    "    border.append((i,500))\n",
    "\n"
   ]
  },
  {
   "cell_type": "code",
   "execution_count": 6,
   "metadata": {},
   "outputs": [
    {
     "data": {
      "image/png": "[encoded data removed]",
      "text/plain": [
       "<matplotlib.figure.Figure at 0x10e84f0b8>"
      ]
     },
     "metadata": {},
     "output_type": "display_data"
    }
   ],
   "source": [
    "# initialize the obstacle\n",
    "\n",
    "# want it to be a rectangle at position (400,300) of size (20, 40)\n",
    "\n",
    "obstacle = []\n",
    "inside_obstacle = []\n",
    "obstacle1_length = 20\n",
    "obstacle1_width = 40\n",
    "obstacle1_x = 400\n",
    "obstacle1_y = 300\n",
    "\n",
    "for i in range(obstacle1_x,obstacle1_x+obstacle1_width):\n",
    "    obstacle.append((i, obstacle1_y))\n",
    "    obstacle.append((i, obstacle1_y+obstacle1_length))\n",
    "for i in range(obstacle1_y, obstacle1_y+obstacle1_length):\n",
    "    obstacle.append((obstacle1_x, i))\n",
    "    obstacle.append((obstacle1_x+obstacle1_width, i))\n",
    "for i in range(obstacle1_x,obstacle1_x+obstacle1_width):\n",
    "    for j in range(obstacle1_y, obstacle1_y+obstacle1_length):\n",
    "        inside_obstacle.append((i,j))\n",
    "plt.figure(figsize=(15, 10))\n",
    "for border_point in border:\n",
    "    plt.scatter(border_point[0], border_point[1], c='b', marker = '.')\n",
    "for obstacle_point in obstacle:\n",
    "    plt.scatter(obstacle_point[0], obstacle_point[1], c='r', marker = '.')\n",
    "plt.show()"
   ]
  },
  {
   "cell_type": "code",
   "execution_count": 7,
   "metadata": {
    "collapsed": true
   },
   "outputs": [],
   "source": [
    "# get all the valid points\n",
    "\n",
    "valid_points = []\n",
    "for i in range(grid_width):\n",
    "    for j in range(grid_length):\n",
    "        if (i,j) in inside_obstacle:\n",
    "            pass\n",
    "        valid_points.append((i,j))"
   ]
  },
  {
   "cell_type": "code",
   "execution_count": 8,
   "metadata": {
    "collapsed": true
   },
   "outputs": [],
   "source": [
    "# using valid points and distance, assuming robot is a circle, find all points which are the radius away from the border\n",
    "\n",
    "c_space_border_overlap = []\n",
    "for point in valid_points:\n",
    "    for obstacle_point in obstacle:\n",
    "        if get_distance(point, obstacle_point) == 40:\n",
    "            c_space_border_overlap.append(point)"
   ]
  },
  {
   "cell_type": "code",
   "execution_count": 9,
   "metadata": {
    "collapsed": true
   },
   "outputs": [],
   "source": [
    "max_x = max(c_space_border_overlap,key=lambda item:item[0])[0]\n",
    "min_x = min(c_space_border_overlap,key=lambda item:item[0])[0]\n",
    "max_y = max(c_space_border_overlap,key=lambda item:item[1])[1]\n",
    "min_y = min(c_space_border_overlap,key=lambda item:item[1])[1]"
   ]
  },
  {
   "cell_type": "code",
   "execution_count": 10,
   "metadata": {
    "collapsed": true
   },
   "outputs": [],
   "source": [
    "c_space_border = []\n",
    "for x in range(min_x, max_x):\n",
    "    for y in range(min_y, max_y):\n",
    "        c_space_border.append((x,y))"
   ]
  },
  {
   "cell_type": "code",
   "execution_count": 11,
   "metadata": {},
   "outputs": [
    {
     "data": {
      "image/png": "[encoded data removed]",
      "text/plain": [
       "<matplotlib.figure.Figure at 0x1097db320>"
      ]
     },
     "metadata": {},
     "output_type": "display_data"
    }
   ],
   "source": [
    "plt.figure(figsize=(15, 10))\n",
    "for border_point in border:\n",
    "    plt.scatter(border_point[0], border_point[1], c='b', marker = '.')\n",
    "for obstacle_point in c_space_border:\n",
    "    plt.scatter(obstacle_point[0], obstacle_point[1], c='r', marker = '.')\n",
    "plt.show()"
   ]
  },
  {
   "cell_type": "markdown",
   "metadata": {},
   "source": [
    "### Let us try the same thing above for multiple obstacles"
   ]
  },
  {
   "cell_type": "code",
   "execution_count": 12,
   "metadata": {
    "collapsed": true
   },
   "outputs": [],
   "source": [
    "obstacle_list = []\n",
    "\n",
    "# let us make a function that takes in 4 arguments and outputs one list which has all 4 items\n",
    "def create_obstacle(obstacle_length, obstacle_width, obstacle_x, obstacle_y):\n",
    "    obstacle_list.append((obstacle_length, obstacle_width, obstacle_x, obstacle_y))\n",
    "\n",
    "\n",
    "obstacle1_length = 20\n",
    "obstacle1_width = 40\n",
    "obstacle1_x = 400\n",
    "obstacle1_y = 300\n",
    "obstacle2_length = 20\n",
    "obstacle2_width = 40\n",
    "obstacle2_x = 400\n",
    "obstacle2_y = 100\n",
    "# create the 2 obstacles using the function above\n",
    "create_obstacle(obstacle1_length, obstacle1_width, obstacle1_x, obstacle1_y)\n",
    "create_obstacle(obstacle2_length, obstacle2_width, obstacle2_x, obstacle2_y)"
   ]
  },
  {
   "cell_type": "code",
   "execution_count": 13,
   "metadata": {
    "collapsed": true
   },
   "outputs": [],
   "source": [
    "def make_and_plot_obstacle(obstacle_list):\n",
    "    obstacle = [[] for _ in range(len(obstacle_list))]\n",
    "    inside_obstacle = [[] for _ in range(len(obstacle_list))]\n",
    "    for i in range(len(obstacle_list)):\n",
    "        obstacle_length = obstacle_list[i][0]\n",
    "        obstacle_width = obstacle_list[i][1]\n",
    "        obstacle_x = obstacle_list[i][2]\n",
    "        obstacle_y = obstacle_list[i][3]\n",
    "        for j in range(obstacle_x,obstacle_x+obstacle_width):\n",
    "            obstacle[i].append((j, obstacle_y))\n",
    "            obstacle[i].append((j, obstacle_y+obstacle_length))\n",
    "        for k in range(obstacle_y, obstacle_y+obstacle_length):\n",
    "            obstacle[i].append((obstacle_x, k))\n",
    "            obstacle[i].append((obstacle_x+obstacle_width, k))\n",
    "        for a in range(obstacle_x,obstacle_x+obstacle_width):\n",
    "            for b in range(obstacle_y, obstacle_y+obstacle_length):\n",
    "                inside_obstacle[i].append((a,b))\n",
    "    return obstacle, inside_obstacle"
   ]
  },
  {
   "cell_type": "code",
   "execution_count": 14,
   "metadata": {
    "collapsed": true
   },
   "outputs": [],
   "source": [
    "obstacle, inside_obstacle = make_and_plot_obstacle(obstacle_list=obstacle_list)"
   ]
  },
  {
   "cell_type": "code",
   "execution_count": 15,
   "metadata": {
    "collapsed": true
   },
   "outputs": [],
   "source": [
    "valid_points = []\n",
    "for i in range(grid_width):\n",
    "    for j in range(grid_length):\n",
    "        for k in range(len(inside_obstacle)):\n",
    "            if (i,j) in inside_obstacle[k]:\n",
    "                pass\n",
    "            valid_points.append((i,j))"
   ]
  },
  {
   "cell_type": "code",
   "execution_count": 16,
   "metadata": {
    "collapsed": true
   },
   "outputs": [],
   "source": [
    "c_space_border_overlap = [[] for _ in range(len(obstacle_list))]\n",
    "for point in valid_points:\n",
    "    for i in range(len(obstacle)):\n",
    "        for obstacle_point in obstacle[i]:\n",
    "            if get_distance(point, obstacle_point) == 40:\n",
    "                c_space_border_overlap[i].append(point)"
   ]
  },
  {
   "cell_type": "code",
   "execution_count": 17,
   "metadata": {
    "collapsed": true
   },
   "outputs": [],
   "source": [
    "c_space_border = []\n",
    "for i in range(len(c_space_border_overlap)):\n",
    "    max_x = max(c_space_border_overlap[i],key=lambda item:item[0])[0]\n",
    "    min_x = min(c_space_border_overlap[i],key=lambda item:item[0])[0]\n",
    "    max_y = max(c_space_border_overlap[i],key=lambda item:item[1])[1]\n",
    "    min_y = min(c_space_border_overlap[i],key=lambda item:item[1])[1]\n",
    "    for x in range(min_x, max_x):\n",
    "        for y in range(min_y, max_y):\n",
    "            c_space_border.append((x,y))"
   ]
  },
  {
   "cell_type": "code",
   "execution_count": 18,
   "metadata": {},
   "outputs": [
    {
     "data": {
      "image/png": "[encoded data removed]",
      "text/plain": [
       "<matplotlib.figure.Figure at 0x1097dba58>"
      ]
     },
     "metadata": {},
     "output_type": "display_data"
    }
   ],
   "source": [
    "plt.figure(figsize=(15, 10))\n",
    "for border_point in border:\n",
    "    plt.scatter(border_point[0], border_point[1], c='b', marker = '.')\n",
    "for obstacle_point in c_space_border:\n",
    "    plt.scatter(obstacle_point[0], obstacle_point[1], c='r', marker = '.')\n",
    "plt.show()"
   ]
  },
  {
   "cell_type": "markdown",
   "metadata": {
    "collapsed": true
   },
   "source": [
    "## Part 2d"
   ]
  },
  {
   "cell_type": "code",
   "execution_count": 19,
   "metadata": {
    "collapsed": true
   },
   "outputs": [],
   "source": [
    "# Determining if the trajectory is collision free is very simple. Make sure no trajectory points are in the c-space-points\n",
    "\n",
    "def check_if_trajectory_collision_free(trajectory, c_space_border):\n",
    "    collision_points = [x for x in trajectory if x in c_space_border]\n",
    "    if len(collision_points) == 0:\n",
    "        print('Collision free')\n",
    "    else:\n",
    "        print('Not collision free')"
   ]
  },
  {
   "cell_type": "code",
   "execution_count": 20,
   "metadata": {
    "collapsed": true
   },
   "outputs": [],
   "source": [
    "# let us do a sample\n",
    "\n",
    "trajectory = []\n",
    "for i in range(100, 600):\n",
    "    trajectory.append((i,200))"
   ]
  },
  {
   "cell_type": "code",
   "execution_count": 21,
   "metadata": {},
   "outputs": [
    {
     "name": "stdout",
     "output_type": "stream",
     "text": [
      "Collision free\n"
     ]
    }
   ],
   "source": [
    "# this one should return true and collision free\n",
    "check_if_trajectory_collision_free(trajectory, c_space_border)"
   ]
  },
  {
   "cell_type": "code",
   "execution_count": 22,
   "metadata": {
    "collapsed": true
   },
   "outputs": [],
   "source": [
    "trajectory_false = []\n",
    "for i in range(100,600):\n",
    "    trajectory_false.append((i,100))"
   ]
  },
  {
   "cell_type": "code",
   "execution_count": 23,
   "metadata": {},
   "outputs": [
    {
     "name": "stdout",
     "output_type": "stream",
     "text": [
      "Not collision free\n"
     ]
    }
   ],
   "source": [
    "# this one should return false and not collision free\n",
    "check_if_trajectory_collision_free(trajectory_false, c_space_border)"
   ]
  },
  {
   "cell_type": "markdown",
   "metadata": {},
   "source": [
    "## Part 2e"
   ]
  },
  {
   "cell_type": "code",
   "execution_count": 25,
   "metadata": {
    "collapsed": true
   },
   "outputs": [],
   "source": [
    "def get_line(x1, y1, x2, y2):\n",
    "    points = []\n",
    "    issteep = abs(y2-y1) > abs(x2-x1)\n",
    "    if issteep:\n",
    "        x1, y1 = y1, x1\n",
    "        x2, y2 = y2, x2\n",
    "    rev = False\n",
    "    if x1 > x2:\n",
    "        x1, x2 = x2, x1\n",
    "        y1, y2 = y2, y1\n",
    "        rev = True\n",
    "    deltax = x2 - x1\n",
    "    deltay = abs(y2-y1)\n",
    "    error = int(deltax / 2)\n",
    "    y = y1\n",
    "    ystep = None\n",
    "    if y1 < y2:\n",
    "        ystep = 1\n",
    "    else:\n",
    "        ystep = -1\n",
    "    for x in range(x1, x2 + 1):\n",
    "        if issteep:\n",
    "            points.append((y, x))\n",
    "        else:\n",
    "            points.append((x, y))\n",
    "        error -= deltay\n",
    "        if error < 0:\n",
    "            y += ystep\n",
    "            error += deltax\n",
    "    # Reverse the list if the coordinates were reversed\n",
    "    if rev:\n",
    "        points.reverse()\n",
    "    return points"
   ]
  },
  {
   "cell_type": "code",
   "execution_count": 51,
   "metadata": {
    "collapsed": true
   },
   "outputs": [],
   "source": [
    "def RRT(initial_position, goal_position, grid_size, obstacles, number_of_iterations, max_distance_per_iteration):\n",
    "    point_list = []\n",
    "    point_list.append(initial_position)\n",
    "    connections = []\n",
    "    length = grid_size[0]\n",
    "    width = grid_size[1]\n",
    "    counter = 0\n",
    "    while counter < number_of_iterations:\n",
    "        rand_point_appended = False\n",
    "        # check if goal is reached\n",
    "        if goal_position in point_list:\n",
    "            #print('goal position reached')\n",
    "            break\n",
    "        # generate random x and y position within the grid\n",
    "        rand_point = (random.randint(0,width), random.randint(0,length))\n",
    "        # check if rand_point is in obstacles\n",
    "        if rand_point in obstacles:\n",
    "            #print('random point in obstacle')\n",
    "            continue\n",
    "        # find the closest point to the rand_point\n",
    "        distance = []\n",
    "        for point in point_list:\n",
    "            distance.append(get_distance(rand_point, point))\n",
    "        smallest_distance_index = distance.index(min(distance))\n",
    "        closest_point = point_list[smallest_distance_index]\n",
    "        #print('found closest point')\n",
    "        # check the distance between the closest_point and the random_point.\n",
    "        # if greater than threshold, move on\n",
    "        distance_between_closest_and_rand = get_distance(closest_point, rand_point)\n",
    "        if distance_between_closest_and_rand > max_distance_per_iteration:\n",
    "            #print('distance between closest and rand too large, moving on')\n",
    "            continue\n",
    "        # check if the line between the closest point and the rand_point is in the obstacle\n",
    "        points_on_line = get_line(closest_point[0], closest_point[1], rand_point[0], rand_point[1])\n",
    "        line_in_obstacle = False\n",
    "        for point in points_on_line:\n",
    "            if point in obstacles:\n",
    "                line_in_obstacle = True\n",
    "        if line_in_obstacle:\n",
    "            #print('line between closest point and rand point goes through obstacle, moving on')\n",
    "            continue\n",
    "        # passes all criteria above\n",
    "        point_list.append(rand_point)\n",
    "        rand_point_appended = True\n",
    "        connections.append((closest_point, rand_point))\n",
    "        # finally check if the rand_point is close to the goal. If so, add line between the two and break out\n",
    "        if rand_point_appended:\n",
    "            if get_distance(rand_point, goal_position) < max_distance_per_iteration:\n",
    "                print('distance between random point and goal postiion is low, connecting')\n",
    "                point_list.append(goal_position)\n",
    "                connections.append((rand_point, goal_position))\n",
    "        counter += 1\n",
    "    return connections, point_list"
   ]
  },
  {
   "cell_type": "code",
   "execution_count": 96,
   "metadata": {
    "collapsed": true
   },
   "outputs": [],
   "source": [
    "initial_position = (100,100)\n",
    "goal_position = (700,400)\n",
    "grid_size = (500,750)\n",
    "obstacles = c_space_border\n",
    "number_of_iterations = 1000\n",
    "max_distance_per_iteration = 100"
   ]
  },
  {
   "cell_type": "code",
   "execution_count": 97,
   "metadata": {},
   "outputs": [
    {
     "name": "stdout",
     "output_type": "stream",
     "text": [
      "length is:  500\n",
      "width is:  750\n",
      "1\n",
      "2\n",
      "3\n",
      "4\n",
      "5\n",
      "6\n",
      "7\n",
      "8\n",
      "9\n",
      "10\n",
      "11\n",
      "12\n",
      "13\n",
      "14\n",
      "15\n",
      "16\n",
      "17\n",
      "18\n",
      "19\n",
      "20\n",
      "21\n",
      "22\n",
      "23\n",
      "24\n",
      "25\n",
      "26\n",
      "27\n",
      "28\n",
      "29\n",
      "30\n",
      "31\n",
      "32\n",
      "33\n",
      "34\n",
      "35\n",
      "36\n",
      "37\n",
      "38\n",
      "39\n",
      "40\n",
      "41\n",
      "42\n",
      "43\n",
      "44\n",
      "45\n",
      "46\n",
      "47\n",
      "48\n",
      "49\n",
      "50\n",
      "51\n",
      "52\n",
      "53\n",
      "54\n",
      "55\n",
      "56\n",
      "57\n",
      "58\n",
      "59\n",
      "60\n",
      "61\n",
      "62\n",
      "63\n",
      "64\n",
      "65\n",
      "66\n",
      "67\n",
      "68\n",
      "69\n",
      "70\n",
      "71\n",
      "72\n",
      "73\n",
      "74\n",
      "75\n",
      "76\n",
      "77\n",
      "78\n",
      "79\n",
      "80\n",
      "81\n",
      "82\n",
      "83\n",
      "84\n",
      "85\n",
      "86\n",
      "87\n",
      "88\n",
      "89\n",
      "90\n",
      "91\n",
      "92\n",
      "93\n",
      "94\n",
      "95\n",
      "96\n",
      "97\n",
      "98\n",
      "99\n",
      "100\n",
      "101\n",
      "102\n",
      "103\n",
      "104\n",
      "105\n",
      "106\n",
      "107\n",
      "108\n",
      "109\n",
      "110\n",
      "111\n",
      "112\n",
      "113\n",
      "114\n",
      "115\n",
      "116\n",
      "117\n",
      "118\n",
      "119\n",
      "120\n",
      "121\n",
      "122\n",
      "123\n",
      "124\n",
      "125\n",
      "126\n",
      "127\n",
      "128\n",
      "129\n",
      "130\n",
      "131\n",
      "132\n",
      "133\n",
      "134\n",
      "135\n",
      "136\n",
      "137\n",
      "138\n",
      "139\n",
      "140\n",
      "141\n",
      "142\n",
      "143\n",
      "144\n",
      "145\n",
      "146\n",
      "147\n",
      "148\n",
      "149\n",
      "150\n",
      "151\n",
      "152\n",
      "153\n",
      "154\n",
      "155\n",
      "156\n",
      "157\n",
      "158\n",
      "159\n",
      "160\n",
      "161\n",
      "162\n",
      "163\n",
      "164\n",
      "165\n",
      "166\n",
      "167\n",
      "168\n",
      "169\n",
      "170\n",
      "171\n",
      "172\n",
      "173\n",
      "174\n",
      "175\n",
      "176\n",
      "177\n",
      "178\n",
      "179\n",
      "180\n",
      "181\n",
      "182\n",
      "183\n",
      "184\n",
      "185\n",
      "186\n",
      "187\n",
      "188\n",
      "189\n",
      "190\n",
      "191\n",
      "192\n",
      "193\n",
      "194\n",
      "195\n",
      "196\n",
      "197\n",
      "198\n",
      "199\n",
      "200\n",
      "201\n",
      "202\n",
      "203\n",
      "204\n",
      "205\n",
      "206\n",
      "207\n",
      "208\n",
      "209\n",
      "210\n",
      "211\n",
      "212\n",
      "213\n",
      "214\n",
      "215\n",
      "216\n",
      "217\n",
      "218\n",
      "219\n",
      "220\n",
      "221\n",
      "222\n",
      "223\n",
      "224\n",
      "225\n",
      "226\n",
      "227\n",
      "228\n",
      "229\n",
      "230\n",
      "231\n",
      "distance between random point and goal postiion is low, connecting\n",
      "232\n"
     ]
    }
   ],
   "source": [
    "connections, point_list = RRT(initial_position, goal_position, grid_size, c_space_border, number_of_iterations, max_distance_per_iteration)"
   ]
  },
  {
   "cell_type": "code",
   "execution_count": 99,
   "metadata": {},
   "outputs": [],
   "source": [
    "x = []\n",
    "y = []\n",
    "for connection in connections:\n",
    "    for point in connection:\n",
    "        x.append(point[0])\n",
    "        y.append(point[1])"
   ]
  },
  {
   "cell_type": "code",
   "execution_count": 111,
   "metadata": {},
   "outputs": [
    {
     "data": {
      "image/png": "[encoded data removed]",
      "text/plain": [
       "<matplotlib.figure.Figure at 0x1248c92b0>"
      ]
     },
     "metadata": {},
     "output_type": "display_data"
    }
   ],
   "source": [
    "plt.figure(figsize=(15, 10))\n",
    "for border_point in border:\n",
    "    plt.scatter(border_point[0], border_point[1], c='b', marker = '.')\n",
    "for obstacle_point in c_space_border:\n",
    "    plt.scatter(obstacle_point[0], obstacle_point[1], c='r', marker = '.')\n",
    "for i in range(0, len(x), 2):\n",
    "    plt.plot(x[i:i+2], y[i:i+2], 'ko-')\n",
    "plt.scatter(initial_position[0], initial_position[1], c='yellow', marker = '.', s=500)\n",
    "plt.scatter(goal_position[0], goal_position[1], c='green', marker='*', s=500)\n",
    "plt.show()"
   ]
  },
  {
   "cell_type": "code",
   "execution_count": null,
   "metadata": {
    "collapsed": true
   },
   "outputs": [],
   "source": []
  }
 ],
 "metadata": {
  "kernelspec": {
   "display_name": "Python 3",
   "language": "python",
   "name": "python3"
  },
  "language_info": {
   "codemirror_mode": {
    "name": "ipython",
    "version": 3
   },
   "file_extension": ".py",
   "mimetype": "text/x-python",
   "name": "python",
   "nbconvert_exporter": "python",
   "pygments_lexer": "ipython3",
   "version": "3.6.3"
  }
 },
 "nbformat": 4,
 "nbformat_minor": 2
}
