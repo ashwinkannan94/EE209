{
 "cells": [
  {
   "cell_type": "markdown",
   "metadata": {
    "collapsed": true
   },
   "source": [
    "## Question 2a"
   ]
  },
  {
   "cell_type": "code",
   "execution_count": 15,
   "metadata": {},
   "outputs": [],
   "source": [
    "import random\n",
    "import numpy as np\n",
    "import matplotlib.pyplot as plt"
   ]
  },
  {
   "cell_type": "code",
   "execution_count": 17,
   "metadata": {},
   "outputs": [],
   "source": [
    "# define the goal point\n",
    "goal = (25,10)\n",
    "\n",
    "# define all other points\n",
    "point_a = (random.randint(0,25), random.randint(0,25))\n",
    "point_b = (random.randint(0,25), random.randint(0,25))\n",
    "point_c = (random.randint(0,25), random.randint(0,25))\n",
    "point_d = (random.randint(0,25), random.randint(0,25))\n",
    "point_e = (random.randint(0,25), random.randint(0,25))\n",
    "\n",
    "# create a list of all points\n",
    "point_list = [point_a, point_b, point_c, point_d, point_e]"
   ]
  },
  {
   "cell_type": "code",
   "execution_count": 18,
   "metadata": {},
   "outputs": [],
   "source": [
    "#function to find the distance between 2 points\n",
    "\n",
    "def get_distance(point1, point2):\n",
    "    if len(point1) != 2 or len(point2) != 2:\n",
    "        return 'please provide x,y coordinates for each point'\n",
    "    x_1 = point1[0]\n",
    "    y_1 = point1[1]\n",
    "    x_2 = point2[0]\n",
    "    y_2 = point2[1]\n",
    "    \n",
    "    euclidean_distance = np.sqrt((x_1-x_2)**2 + (y_1-y_2)**2)\n",
    "    return euclidean_distance"
   ]
  },
  {
   "cell_type": "code",
   "execution_count": 51,
   "metadata": {},
   "outputs": [
    {
     "name": "stdout",
     "output_type": "stream",
     "text": [
      "the closest point is :  (23, 6)\n"
     ]
    },
    {
     "data": {
      "image/png": "[encoded data removed]",
      "text/plain": [
       "<matplotlib.figure.Figure at 0x1196115f8>"
      ]
     },
     "metadata": {},
     "output_type": "display_data"
    }
   ],
   "source": [
    "# find the closest point\n",
    "distance = []\n",
    "for point in point_list:\n",
    "    distance.append(get_distance(goal, point))\n",
    "\n",
    "smallest_distance_index = distance.index(min(distance))\n",
    "closest_point = point_list[smallest_distance_index]\n",
    "print('the closest point is : ', closest_point)\n",
    "# plot out all of the points\n",
    "for point in point_list:\n",
    "    plt.scatter(point[0], point[1], marker = '.', c='b')\n",
    "plt.scatter(closest_point[0], closest_point[1], marker='*', c='k')\n",
    "plt.scatter(goal[0], goal[1],  marker='D', c='r')\n",
    "plt.show()"
   ]
  },
  {
   "cell_type": "code",
   "execution_count": null,
   "metadata": {
    "collapsed": true
   },
   "outputs": [],
   "source": []
  }
 ],
 "metadata": {
  "kernelspec": {
   "display_name": "Python 3",
   "language": "python",
   "name": "python3"
  },
  "language_info": {
   "codemirror_mode": {
    "name": "ipython",
    "version": 3
   },
   "file_extension": ".py",
   "mimetype": "text/x-python",
   "name": "python",
   "nbconvert_exporter": "python",
   "pygments_lexer": "ipython3",
   "version": "3.6.3"
  }
 },
 "nbformat": 4,
 "nbformat_minor": 2
}
