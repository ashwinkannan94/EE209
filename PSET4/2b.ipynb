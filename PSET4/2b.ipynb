{
 "cells": [
  {
   "cell_type": "code",
   "execution_count": 20,
   "metadata": {},
   "outputs": [],
   "source": [
    "import math\n",
    "import matplotlib.pyplot as plt\n",
    "from math import pi"
   ]
  },
  {
   "cell_type": "code",
   "execution_count": 41,
   "metadata": {},
   "outputs": [],
   "source": [
    "def compute_trajectory(initial, target):\n",
    "    initial_x, initial_y, initial_theta = initial\n",
    "    target_x, target_y, target_theta = target\n",
    "    it_x = initial_x\n",
    "    it_y = initial_y\n",
    "    \n",
    "    diff_theta = target_theta - initial_theta\n",
    "    distance = math.sqrt((target_x-initial_x)^2 + (target_y-initial_y)^2) \n",
    "    slope_x = target_x - initial_x\n",
    "    slope_y = target_y - initial_y\n",
    "    \n",
    "    markers = []\n",
    "    while(abs(it_x - target_x) > 5 and abs(it_y - target_y) > 5):\n",
    "        print(it_x,it_y)\n",
    "        markers.append([it_x, it_y])\n",
    "        it_x, it_y, theta = update_robot(it_x, it_y, 45, [1,1], 10) \n",
    "    plt.scatter(initial_x, initial_y, marker = '*', c='r')\n",
    "    plt.scatter(target_x, target_y, marker = '*', c='g')\n",
    "    for point in markers:\n",
    "        plt.scatter(point[0], point[1], marker = '.', c='b')\n",
    "    plt.show()"
   ]
  },
  {
   "cell_type": "code",
   "execution_count": 34,
   "metadata": {},
   "outputs": [],
   "source": [
    "def update_robot(x, y, theta, speed, time):\n",
    "    new_theta = theta + (speed[0]- speed[1]) * time\n",
    "    rad = new_theta*pi/180\n",
    "    if new_theta <= 45:\n",
    "        new_x = x + time*math.sin(rad)\n",
    "        new_y = y + time*math.cos(rad)\n",
    "    elif new_theta > 45 and new_theta <= 90:\n",
    "        new_x = x + time*math.cos(pi/2 - rad)\n",
    "        new_y = y + time*math.sin(pi/2 - rad)\n",
    "    elif new_theta > 90 and new_theta <= 135:\n",
    "        new_x = x + time*math.cos(rad - pi/2)\n",
    "        new_y = y + time*math.sin(rad - pi/2)\n",
    "    elif new_theta > 135 and new_theta <= 180:\n",
    "        new_x = x + time*math.sin(pi - rad)\n",
    "        new_y = y + time*math.cos(pi - rad)\n",
    "    elif new_theta > 180 and new_theta <= 225:\n",
    "        new_x = x + time*math.sin(rad - pi)\n",
    "        new_y = y + time*math.cos(rad - pi)\n",
    "    elif new_theta > 225 and new_theta <= 270:\n",
    "        new_x = x + time*math.cos(3*pi/2 - rad)\n",
    "        new_y = y + time*math.sin(3*pi/2 - rad)\n",
    "    elif new_theta > 270 and new_theta <= 315:\n",
    "        new_x = x + time*math.cos(rad - 3*pi/2)\n",
    "        new_y = y + time*math.sin(rad - 3*pi/2)\n",
    "    elif new_theta > 315 and new_theta < 360:\n",
    "        new_x = x + time*math.sin(2*pi - rad)\n",
    "        new_y = y + time*math.cos(2*pi - rad)\n",
    "    return new_x, new_y, new_theta"
   ]
  },
  {
   "cell_type": "code",
   "execution_count": 42,
   "metadata": {},
   "outputs": [
    {
     "name": "stdout",
     "output_type": "stream",
     "text": [
      "100 100\n",
      "107.07106781186548 107.07106781186548\n",
      "114.14213562373095 114.14213562373095\n",
      "121.21320343559643 121.21320343559643\n",
      "128.2842712474619 128.2842712474619\n",
      "135.35533905932738 135.35533905932738\n",
      "142.42640687119285 142.42640687119285\n",
      "149.49747468305833 149.49747468305833\n",
      "156.5685424949238 156.5685424949238\n",
      "163.63961030678928 163.63961030678928\n",
      "170.71067811865476 170.71067811865476\n",
      "177.78174593052023 177.78174593052023\n",
      "184.8528137423857 184.8528137423857\n",
      "191.92388155425118 191.92388155425118\n"
     ]
    },
    {
     "data": {
      "image/png": "[encoded data removed]",
      "text/plain": [
       "<Figure size 432x288 with 1 Axes>"
      ]
     },
     "metadata": {
      "needs_background": "light"
     },
     "output_type": "display_data"
    }
   ],
   "source": [
    "initial = [100,100,0]\n",
    "target = [200,200,0]\n",
    "compute_trajectory(initial, target)"
   ]
  },
  {
   "cell_type": "code",
   "execution_count": 24,
   "metadata": {},
   "outputs": [
    {
     "ename": "NameError",
     "evalue": "name 'markers' is not defined",
     "output_type": "error",
     "traceback": [
      "\u001b[0;31m---------------------------------------------------------------------------\u001b[0m",
      "\u001b[0;31mNameError\u001b[0m                                 Traceback (most recent call last)",
      "\u001b[0;32m<ipython-input-24-79e29c0135eb>\u001b[0m in \u001b[0;36m<module>\u001b[0;34m\u001b[0m\n\u001b[0;32m----> 1\u001b[0;31m \u001b[0mprint\u001b[0m\u001b[0;34m(\u001b[0m\u001b[0mmarkers\u001b[0m\u001b[0;34m)\u001b[0m\u001b[0;34m\u001b[0m\u001b[0m\n\u001b[0m",
      "\u001b[0;31mNameError\u001b[0m: name 'markers' is not defined"
     ]
    }
   ],
   "source": [
    "print(markers)"
   ]
  }
 ],
 "metadata": {
  "kernelspec": {
   "display_name": "Python 3",
   "language": "python",
   "name": "python3"
  },
  "language_info": {
   "codemirror_mode": {
    "name": "ipython",
    "version": 3
   },
   "file_extension": ".py",
   "mimetype": "text/x-python",
   "name": "python",
   "nbconvert_exporter": "python",
   "pygments_lexer": "ipython3",
   "version": "3.6.6"
  }
 },
 "nbformat": 4,
 "nbformat_minor": 2
}
