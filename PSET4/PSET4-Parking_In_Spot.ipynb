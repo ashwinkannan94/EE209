{
 "cells": [
  {
   "cell_type": "markdown",
   "metadata": {
    "collapsed": true
   },
   "source": [
    "## Question 2a"
   ]
  },
  {
   "cell_type": "code",
   "execution_count": 1,
   "metadata": {
    "collapsed": true
   },
   "outputs": [],
   "source": [
    "import random\n",
    "import numpy as np\n",
    "import matplotlib.pyplot as plt\n",
    "import matplotlib.patches as patches"
   ]
  },
  {
   "cell_type": "code",
   "execution_count": 2,
   "metadata": {
    "collapsed": true
   },
   "outputs": [],
   "source": [
    "# define the goal point\n",
    "goal = (25,10)\n",
    "\n",
    "# define all other points\n",
    "point_a = (random.randint(0,25), random.randint(0,25))\n",
    "point_b = (random.randint(0,25), random.randint(0,25))\n",
    "point_c = (random.randint(0,25), random.randint(0,25))\n",
    "point_d = (random.randint(0,25), random.randint(0,25))\n",
    "point_e = (random.randint(0,25), random.randint(0,25))\n",
    "\n",
    "# create a list of all points\n",
    "point_list = [point_a, point_b, point_c, point_d, point_e]"
   ]
  },
  {
   "cell_type": "code",
   "execution_count": 3,
   "metadata": {
    "collapsed": true
   },
   "outputs": [],
   "source": [
    "#function to find the distance between 2 points\n",
    "\n",
    "def get_distance(point1, point2):\n",
    "    if len(point1) != 2 or len(point2) != 2:\n",
    "        return 'please provide x,y coordinates for each point'\n",
    "    x_1 = point1[0]\n",
    "    y_1 = point1[1]\n",
    "    x_2 = point2[0]\n",
    "    y_2 = point2[1]\n",
    "    \n",
    "    euclidean_distance = np.sqrt((x_1-x_2)**2 + (y_1-y_2)**2)\n",
    "    return euclidean_distance"
   ]
  },
  {
   "cell_type": "markdown",
   "metadata": {},
   "source": [
    "## Quetion 2c"
   ]
  },
  {
   "cell_type": "code",
   "execution_count": 4,
   "metadata": {
    "collapsed": true
   },
   "outputs": [],
   "source": [
    "# first initialize the grid\n",
    "\n",
    "grid_width = 750\n",
    "grid_length = 500\n",
    "\n",
    "border = []\n",
    "for i in range(grid_length):\n",
    "    border.append((0, i))\n",
    "    border.append((750,i))\n",
    "for i in range(grid_width):\n",
    "    border.append((i, 0))\n",
    "    border.append((i,500))\n",
    "\n"
   ]
  },
  {
   "cell_type": "markdown",
   "metadata": {},
   "source": [
    "### Let us try the same thing above for multiple obstacles"
   ]
  },
  {
   "cell_type": "code",
   "execution_count": 10,
   "metadata": {
    "collapsed": true
   },
   "outputs": [],
   "source": [
    "obstacle_list = []\n",
    "\n",
    "# let us make a function that takes in 4 arguments and outputs one list which has all 4 items\n",
    "def create_obstacle(obstacle_length, obstacle_width, obstacle_x, obstacle_y):\n",
    "    obstacle_list.append((obstacle_length, obstacle_width, obstacle_x, obstacle_y))\n",
    "\n",
    "\n",
    "obstacle1_length = 50\n",
    "obstacle1_width = 750\n",
    "obstacle1_x = 0\n",
    "obstacle1_y = 325\n",
    "obstacle2_length = 100\n",
    "obstacle2_width = 20\n",
    "obstacle2_x = 100\n",
    "obstacle2_y = 225\n",
    "obstacle3_length = 100\n",
    "obstacle3_width = 20\n",
    "obstacle3_x = 250\n",
    "obstacle3_y = 225\n",
    "obstacle4_length = 100\n",
    "obstacle4_width = 20\n",
    "obstacle4_x = 400\n",
    "obstacle4_y = 225\n",
    "obstacle5_length = 100\n",
    "obstacle5_width = 20\n",
    "obstacle5_x = 550\n",
    "obstacle5_y = 225\n",
    "# car obstacles\n",
    "obstacle6_length = 50\n",
    "obstacle6_width = 40\n",
    "obstacle6_x = 40\n",
    "obstacle6_y = 250\n",
    "obstacle7_length = 50\n",
    "obstacle7_width = 40\n",
    "obstacle7_x = 160\n",
    "obstacle7_y = 250\n",
    "obstacle8_length = 50\n",
    "obstacle8_width = 40\n",
    "obstacle8_x = 460\n",
    "obstacle8_y = 250\n",
    "obstacle9_length = 50\n",
    "obstacle9_width = 40\n",
    "obstacle9_x = 650\n",
    "obstacle9_y = 250\n",
    "\n",
    "# create the 9 obstacles using the function above\n",
    "create_obstacle(obstacle1_length, obstacle1_width, obstacle1_x, obstacle1_y)\n",
    "create_obstacle(obstacle2_length, obstacle2_width, obstacle2_x, obstacle2_y)\n",
    "create_obstacle(obstacle3_length, obstacle3_width, obstacle3_x, obstacle3_y)\n",
    "create_obstacle(obstacle4_length, obstacle4_width, obstacle4_x, obstacle4_y)\n",
    "create_obstacle(obstacle5_length, obstacle5_width, obstacle5_x, obstacle5_y)\n",
    "create_obstacle(obstacle6_length, obstacle6_width, obstacle6_x, obstacle6_y)\n",
    "create_obstacle(obstacle7_length, obstacle7_width, obstacle7_x, obstacle7_y)\n",
    "create_obstacle(obstacle8_length, obstacle8_width, obstacle8_x, obstacle8_y)\n",
    "create_obstacle(obstacle9_length, obstacle9_width, obstacle9_x, obstacle9_y)"
   ]
  },
  {
   "cell_type": "code",
   "execution_count": 11,
   "metadata": {
    "collapsed": true
   },
   "outputs": [],
   "source": [
    "def make_and_plot_obstacle(obstacle_list):\n",
    "    obstacle = [[] for _ in range(len(obstacle_list))]\n",
    "    inside_obstacle = [[] for _ in range(len(obstacle_list))]\n",
    "    for i in range(len(obstacle_list)):\n",
    "        obstacle_length = obstacle_list[i][0]\n",
    "        obstacle_width = obstacle_list[i][1]\n",
    "        obstacle_x = obstacle_list[i][2]\n",
    "        obstacle_y = obstacle_list[i][3]\n",
    "        for j in range(obstacle_x,obstacle_x+obstacle_width):\n",
    "            obstacle[i].append((j, obstacle_y))\n",
    "            obstacle[i].append((j, obstacle_y+obstacle_length))\n",
    "        for k in range(obstacle_y, obstacle_y+obstacle_length):\n",
    "            obstacle[i].append((obstacle_x, k))\n",
    "            obstacle[i].append((obstacle_x+obstacle_width, k))\n",
    "        for a in range(obstacle_x,obstacle_x+obstacle_width):\n",
    "            for b in range(obstacle_y, obstacle_y+obstacle_length):\n",
    "                inside_obstacle[i].append((a,b))\n",
    "    return obstacle, inside_obstacle"
   ]
  },
  {
   "cell_type": "code",
   "execution_count": 28,
   "metadata": {
    "collapsed": true
   },
   "outputs": [],
   "source": [
    "obstacle, inside_obstacle = make_and_plot_obstacle(obstacle_list=obstacle_list)"
   ]
  },
  {
   "cell_type": "code",
   "execution_count": 29,
   "metadata": {},
   "outputs": [
    {
     "data": {
      "image/png": "[encoded data removed]",
      "text/plain": [
       "<matplotlib.figure.Figure at 0x11cc7fac8>"
      ]
     },
     "metadata": {},
     "output_type": "display_data"
    }
   ],
   "source": [
    "initial_position = (50,100)\n",
    "goal_position = (325,285)\n",
    "plt.figure(figsize=(15, 10))\n",
    "for border_point in border:\n",
    "    plt.scatter(border_point[0], border_point[1], c='b', marker = '.')\n",
    "for i in range(len(obstacle)):\n",
    "    for obstacle_point in obstacle[i]:\n",
    "        plt.scatter(obstacle_point[0], obstacle_point[1], c='r', marker = '.')\n",
    "plt.scatter(initial_position[0], initial_position[1], c='yellow', marker = '.', s=500)\n",
    "plt.scatter(goal_position[0], goal_position[1], c='green', marker='*', s=500)\n",
    "plt.show()"
   ]
  },
  {
   "cell_type": "markdown",
   "metadata": {},
   "source": [
    "## Compute the C-Space"
   ]
  },
  {
   "cell_type": "code",
   "execution_count": 30,
   "metadata": {},
   "outputs": [],
   "source": [
    "valid_points = []\n",
    "for i in range(grid_width):\n",
    "    for j in range(grid_length):\n",
    "        inside_obstacle_bool = False\n",
    "        for k in range(len(inside_obstacle)):\n",
    "            if (i,j) in inside_obstacle[k]:\n",
    "                inside_obstacle_bool = True\n",
    "        if not inside_obstacle_bool:\n",
    "            valid_points.append((i,j))"
   ]
  },
  {
   "cell_type": "code",
   "execution_count": 31,
   "metadata": {},
   "outputs": [],
   "source": [
    "c_space_border_overlap = [[] for _ in range(len(obstacle_list))]\n",
    "for point in valid_points:\n",
    "    for i in range(len(obstacle)):\n",
    "        for obstacle_point in obstacle[i]:\n",
    "            if get_distance(point, obstacle_point) == 40:\n",
    "                c_space_border_overlap[i].append(point)"
   ]
  },
  {
   "cell_type": "code",
   "execution_count": 32,
   "metadata": {
    "collapsed": true
   },
   "outputs": [],
   "source": [
    "c_space_border = []\n",
    "for i in range(len(c_space_border_overlap)):\n",
    "    max_x = max(c_space_border_overlap[i],key=lambda item:item[0])[0]\n",
    "    min_x = min(c_space_border_overlap[i],key=lambda item:item[0])[0]\n",
    "    max_y = max(c_space_border_overlap[i],key=lambda item:item[1])[1]\n",
    "    min_y = min(c_space_border_overlap[i],key=lambda item:item[1])[1]\n",
    "    for x in range(min_x, max_x):\n",
    "        for y in range(min_y, max_y):\n",
    "            c_space_border.append((x,y))"
   ]
  },
  {
   "cell_type": "markdown",
   "metadata": {},
   "source": [
    "## RRT computation"
   ]
  },
  {
   "cell_type": "code",
   "execution_count": 34,
   "metadata": {
    "collapsed": true
   },
   "outputs": [],
   "source": [
    "def get_line(x1, y1, x2, y2):\n",
    "    points = []\n",
    "    issteep = abs(y2-y1) > abs(x2-x1)\n",
    "    if issteep:\n",
    "        x1, y1 = y1, x1\n",
    "        x2, y2 = y2, x2\n",
    "    rev = False\n",
    "    if x1 > x2:\n",
    "        x1, x2 = x2, x1\n",
    "        y1, y2 = y2, y1\n",
    "        rev = True\n",
    "    deltax = x2 - x1\n",
    "    deltay = abs(y2-y1)\n",
    "    error = int(deltax / 2)\n",
    "    y = y1\n",
    "    ystep = None\n",
    "    if y1 < y2:\n",
    "        ystep = 1\n",
    "    else:\n",
    "        ystep = -1\n",
    "    for x in range(x1, x2 + 1):\n",
    "        if issteep:\n",
    "            points.append((y, x))\n",
    "        else:\n",
    "            points.append((x, y))\n",
    "        error -= deltay\n",
    "        if error < 0:\n",
    "            y += ystep\n",
    "            error += deltax\n",
    "    # Reverse the list if the coordinates were reversed\n",
    "    if rev:\n",
    "        points.reverse()\n",
    "    return points"
   ]
  },
  {
   "cell_type": "code",
   "execution_count": 35,
   "metadata": {
    "collapsed": true
   },
   "outputs": [],
   "source": [
    "def RRT(initial_position, goal_position, grid_size, obstacles, number_of_iterations, max_distance_per_iteration):\n",
    "    point_list = []\n",
    "    point_list.append(initial_position)\n",
    "    connections = []\n",
    "    length = grid_size[0]\n",
    "    width = grid_size[1]\n",
    "    counter = 0\n",
    "    while counter < number_of_iterations:\n",
    "        rand_point_appended = False\n",
    "        # check if goal is reached\n",
    "        if goal_position in point_list:\n",
    "            #print('goal position reached')\n",
    "            break\n",
    "        # generate random x and y position within the grid\n",
    "        rand_point = (random.randint(0,width), random.randint(0,length))\n",
    "        # check if rand_point is in obstacles\n",
    "        if rand_point in obstacles:\n",
    "            #print('random point in obstacle')\n",
    "            continue\n",
    "        # find the closest point to the rand_point\n",
    "        distance = []\n",
    "        for point in point_list:\n",
    "            distance.append(get_distance(rand_point, point))\n",
    "        smallest_distance_index = distance.index(min(distance))\n",
    "        closest_point = point_list[smallest_distance_index]\n",
    "        #print('found closest point')\n",
    "        # check the distance between the closest_point and the random_point.\n",
    "        # if greater than threshold, move on\n",
    "        distance_between_closest_and_rand = get_distance(closest_point, rand_point)\n",
    "        if distance_between_closest_and_rand > max_distance_per_iteration:\n",
    "            #print('distance between closest and rand too large, moving on')\n",
    "            continue\n",
    "        # check if the line between the closest point and the rand_point is in the obstacle\n",
    "        points_on_line = get_line(closest_point[0], closest_point[1], rand_point[0], rand_point[1])\n",
    "        line_in_obstacle = False\n",
    "        for point in points_on_line:\n",
    "            if point in obstacles:\n",
    "                line_in_obstacle = True\n",
    "        if line_in_obstacle:\n",
    "            #print('line between closest point and rand point goes through obstacle, moving on')\n",
    "            continue\n",
    "        # passes all criteria above\n",
    "        point_list.append(rand_point)\n",
    "        rand_point_appended = True\n",
    "        connections.append((closest_point, rand_point))\n",
    "        # finally check if the rand_point is close to the goal. If so, add line between the two and break out\n",
    "        if rand_point_appended:\n",
    "            if get_distance(rand_point, goal_position) < max_distance_per_iteration:\n",
    "                print('distance between random point and goal postiion is low, connecting')\n",
    "                point_list.append(goal_position)\n",
    "                connections.append((rand_point, goal_position))\n",
    "        counter += 1\n",
    "    return connections, point_list"
   ]
  },
  {
   "cell_type": "code",
   "execution_count": 44,
   "metadata": {
    "collapsed": true
   },
   "outputs": [],
   "source": [
    "grid_size = (500,750)\n",
    "obstacles = c_space_border\n",
    "number_of_iterations = 1000\n",
    "max_distance_per_iteration = 50"
   ]
  },
  {
   "cell_type": "code",
   "execution_count": 45,
   "metadata": {},
   "outputs": [
    {
     "name": "stdout",
     "output_type": "stream",
     "text": [
      "distance between random point and goal postiion is low, connecting\n"
     ]
    }
   ],
   "source": [
    "connections, point_list = RRT(initial_position, goal_position, grid_size, c_space_border, number_of_iterations, max_distance_per_iteration)"
   ]
  },
  {
   "cell_type": "code",
   "execution_count": 46,
   "metadata": {
    "collapsed": true
   },
   "outputs": [],
   "source": [
    "x = []\n",
    "y = []\n",
    "for connection in connections:\n",
    "    for point in connection:\n",
    "        x.append(point[0])\n",
    "        y.append(point[1])"
   ]
  },
  {
   "cell_type": "code",
   "execution_count": 47,
   "metadata": {
    "collapsed": true
   },
   "outputs": [],
   "source": [
    "def make_link(G,node1,node2):\n",
    "    if node1 not in G:\n",
    "        G[node1]= []\n",
    "    (G[node1]).append(node2)\n",
    "    if node2 not in G:\n",
    "        G[node2]= []\n",
    "    (G[node2]).append(node1)\n",
    "    return G\n",
    "\n",
    "G = {}\n",
    "for point1,point2 in connections:\n",
    "    make_link(G,point1,point2)"
   ]
  },
  {
   "cell_type": "code",
   "execution_count": 48,
   "metadata": {
    "collapsed": true
   },
   "outputs": [],
   "source": [
    "def find_all_paths(graph, start, end, path=[]):\n",
    "    path = path + [start]\n",
    "#     print ('adding ' + start)\n",
    "    if start == end:\n",
    "        return [path]\n",
    "    if not start in graph:\n",
    "        return []\n",
    "    paths = []\n",
    "    for node in graph[start]:\n",
    "        if node not in path:\n",
    "            paths.extend(find_all_paths(graph, node, end, path))\n",
    "    #print ('returning ' + str(paths))\n",
    "    return paths\n",
    "\n",
    "path_to_goal = find_all_paths(G, initial_position, goal_position)"
   ]
  },
  {
   "cell_type": "code",
   "execution_count": 49,
   "metadata": {
    "collapsed": true
   },
   "outputs": [],
   "source": [
    "x_to_goal = []\n",
    "y_to_goal = []\n",
    "for point in path_to_goal[0]:\n",
    "    x_to_goal.append(point[0])\n",
    "    y_to_goal.append(point[1])"
   ]
  },
  {
   "cell_type": "code",
   "execution_count": 50,
   "metadata": {},
   "outputs": [
    {
     "data": {
      "image/png": "[encoded data removed]",
      "text/plain": [
       "<matplotlib.figure.Figure at 0x1514deba8>"
      ]
     },
     "metadata": {},
     "output_type": "display_data"
    }
   ],
   "source": [
    "plt.figure(figsize=(15, 10))\n",
    "for i in range(0, len(x_to_goal), 2):\n",
    "    plt.plot(x_to_goal[i:i+2], y_to_goal[i:i+2], 'go-', linewidth=7)\n",
    "    plt.plot(x_to_goal[i+1:i+3], y_to_goal[i+1:i+3], 'go-', linewidth=7)\n",
    "for border_point in border:\n",
    "    plt.scatter(border_point[0], border_point[1], c='b', marker = '.')\n",
    "for i in range(len(obstacle)):\n",
    "    for obstacle_point in obstacle[i]:\n",
    "        plt.scatter(obstacle_point[0], obstacle_point[1], c='r', marker = '.')\n",
    "for i in range(0, len(x), 2):\n",
    "    plt.plot(x[i:i+2], y[i:i+2], 'ko-')\n",
    "plt.scatter(initial_position[0], initial_position[1], c='yellow', marker = '.', s=500)\n",
    "plt.scatter(goal_position[0], goal_position[1], c='green', marker='*', s=500)\n",
    "plt.show()"
   ]
  },
  {
   "cell_type": "code",
   "execution_count": null,
   "metadata": {
    "collapsed": true
   },
   "outputs": [],
   "source": []
  }
 ],
 "metadata": {
  "kernelspec": {
   "display_name": "Python 3",
   "language": "python",
   "name": "python3"
  },
  "language_info": {
   "codemirror_mode": {
    "name": "ipython",
    "version": 3
   },
   "file_extension": ".py",
   "mimetype": "text/x-python",
   "name": "python",
   "nbconvert_exporter": "python",
   "pygments_lexer": "ipython3",
   "version": "3.6.3"
  }
 },
 "nbformat": 4,
 "nbformat_minor": 2
}
