{
 "cells": [
  {
   "cell_type": "code",
   "execution_count": 2,
   "metadata": {
    "collapsed": true
   },
   "outputs": [],
   "source": [
    "import random\n",
    "import numpy as np"
   ]
  },
  {
   "cell_type": "markdown",
   "metadata": {},
   "source": [
    "## 1A: Initializing the state space"
   ]
  },
  {
   "cell_type": "code",
   "execution_count": 4,
   "metadata": {
    "collapsed": true
   },
   "outputs": [],
   "source": [
    "class State:\n",
    "    \n",
    "    def __init__(self, x_position, y_position, heading):\n",
    "        self.x_position = x_position\n",
    "        self.y_position = y_position\n",
    "        self.heading = heading\n",
    "        \n",
    "    def return_current_state(self):\n",
    "        return self.x_position, self.y_position, self.heading"
   ]
  },
  {
   "cell_type": "markdown",
   "metadata": {},
   "source": [
    "## 1B: Initializing the action space"
   ]
  },
  {
   "cell_type": "code",
   "execution_count": 5,
   "metadata": {
    "collapsed": true
   },
   "outputs": [],
   "source": [
    "class Action:\n",
    "    \n",
    "    def __init__(self, move, rotation):\n",
    "        self.move = move\n",
    "        self.rotation = rotation\n",
    "        \n",
    "    def return_action(self):\n",
    "        return self.move, self.rotation"
   ]
  },
  {
   "cell_type": "markdown",
   "metadata": {},
   "source": [
    "## 1C: Return the probabilty Psa(s') given pe, s, a, s'"
   ]
  },
  {
   "cell_type": "markdown",
   "metadata": {
    "collapsed": true
   },
   "source": [
    "### This is the Markov decision process"
   ]
  },
  {
   "cell_type": "code",
   "execution_count": 1,
   "metadata": {
    "collapsed": true
   },
   "outputs": [],
   "source": [
    "class MarkovDecisionProcess:\n",
    "    \n",
    "    # get the length and the width of the space that we are in\n",
    "    def __init__(self, length, width):\n",
    "        self.length = length\n",
    "        self.width = width\n",
    "    \n",
    "    # check for bound violations\n",
    "    def check_bounds(next_x, next_y):\n",
    "        if (next_x < 0 or next_x >= self.width):\n",
    "            next_x = current_x\n",
    "        if (next_y < 0 or next_y >= self.height):\n",
    "            next_y = current_y\n",
    "        return next_x, next_y\n",
    "    \n",
    "    #define the directions\n",
    "    left = {8,9,10}\n",
    "    right = {2,3,4}\n",
    "    up = {11,0,1}\n",
    "    down = {5,6,7}\n",
    "    \n",
    "    # find out the next step --> returns next_x, next_y, next_heading\n",
    "    def next_state_compiled(self, state, action):\n",
    "        # get x, y and heading from state\n",
    "        current_x = state.x_position\n",
    "        current_y = state.y_position\n",
    "        current_heading = state.heading\n",
    "        \n",
    "        # get move and rotation from action\n",
    "        move = action.move\n",
    "        rotation = action.rotation\n",
    "        \n",
    "        # check if heading is left, need to only change x and not y\n",
    "        if heading in self.left:\n",
    "            next_x = current_x - move\n",
    "            next_y = current_y\n",
    "        \n",
    "        # check if heading is right, need to only change x and not y\n",
    "        elif heading in self.right:\n",
    "            next_x = current_x + move\n",
    "            next_y = current_y\n",
    "        \n",
    "        # check if heading is up, need to only change y and not x\n",
    "        elif heading in self.up:\n",
    "            next_x = current_x\n",
    "            next_y = current_y + move\n",
    "        \n",
    "        # check if heading is down, need to only change y and not x\n",
    "        else:\n",
    "            next_x = current_x\n",
    "            next_y = current_y - move\n",
    "        \n",
    "        # need to check the bounds\n",
    "        next_x, next_y = check_bounds(next_x, next_y)\n",
    "        \n",
    "        # finally, need to accomodate for the rotation in heading\n",
    "        next_heading = (current_heading + rotation) % 12\n",
    "        \n",
    "        return next_x, next_y, next_heading\n",
    "    \n",
    "    # find out the next step for the movements that have the prob of error\n",
    "    def next_state_individualized(self, current_x, current_y, current_heading, move, rotation):\n",
    "        # check if heading is left, need to only change x and not y\n",
    "        if heading in self.left:\n",
    "            next_x = current_x - move\n",
    "            next_y = current_y\n",
    "        \n",
    "        # check if heading is right, need to only change x and not y\n",
    "        elif heading in self.right:\n",
    "            next_x = current_x + move\n",
    "            next_y = current_y\n",
    "        \n",
    "        # check if heading is up, need to only change y and not x\n",
    "        elif heading in self.up:\n",
    "            next_x = current_x\n",
    "            next_y = current_y + move\n",
    "        \n",
    "        # check if heading is down, need to only change y and not x\n",
    "        else:\n",
    "            next_x = current_x\n",
    "            next_y = current_y - move\n",
    "        \n",
    "        # need to check the bounds\n",
    "        next_x, next_y = check_bounds(next_x, next_y)\n",
    "        \n",
    "        # finally, need to accomodate for the rotation in heading\n",
    "        next_heading = (current_heading + rotation) % 12\n",
    "        \n",
    "        return next_x, next_y, next_heading\n",
    "    \n",
    "    # find out the transition probabilities\n",
    "    def transition_probabilities(self, prob_of_error, action, current_state, next_state):\n",
    "        # get move and rotation from action\n",
    "        move = action.move\n",
    "        rotation = action.rotation\n",
    "        \n",
    "        # if we do not move, current state should equal next state. \n",
    "        if move == 0:\n",
    "            if current_state.return_current_state == next_state.return_current_state:\n",
    "                return 1\n",
    "            else:\n",
    "                return 0\n",
    "        \n",
    "        # in the case that we do move, need to account for the error probabilities\n",
    "        if next_state.return_current_state == self.next_state_compiled(current_state, action):\n",
    "            return 1-(2*prob_of_error)\n",
    "        else:\n",
    "            current_x = current_state.x_position\n",
    "            current_y = current_state.y_position\n",
    "            current_heading = current_state.heading\n",
    "\n",
    "            # need to check to return the prob of error\n",
    "            if next_state.return_current_state == self.next_state_individualized(current_x, current_y, (current_heading-1)%12, move, rotation):\n",
    "                return prob_of_error\n",
    "\n",
    "            if next_state.return_current_state == self.next_state_individualized(current_x, current_y, (current_heading+1)%12, move, rotation):\n",
    "                return prob_of_error\n",
    "        \n",
    "        return 0\n",
    "    \n",
    "    number_of_headings = 12\n",
    "    \n",
    "    # Part 1D\n",
    "    def compute_next_state(self, prob_of_error, current_state, action):\n",
    "        \n",
    "        wrong_states = []\n",
    "        # need to loop through all of the values of x, y and heading\n",
    "        for i in range(self.length):\n",
    "            for j in range(self.width):\n",
    "                for k in range(self.number_of_headings):\n",
    "                    # define the next state\n",
    "                    next_state = State(i,j,k)\n",
    "                    # find the transition probability between current state and the next state\n",
    "                    prob_of_transition = self.transition_probabilities(prob_of_error, action, current_state, next_state)\n",
    "                    # if the probability of transitioning does not equal 0, then only do we proceed. If 0, do not care\n",
    "                    if prob_of_transition != 0:\n",
    "                        # if our transition probabilty is the probability of error, it means that there was an error. Need to keep track of these next state values\n",
    "                        if prob_of_transition == prob_of_error:\n",
    "                            wrong_states.append(next_state)\n",
    "                        else:\n",
    "                            correct_next_state = next_state\n",
    "        # if I choose a random number between 0 and 1 and my number is less than 2*prob_of_error, I move in the wrong direction. If not, I move in the correct direction.\n",
    "        random_number_generated = np.random.uniform(0,1)\n",
    "        if random_number_generated < 2*prob_of_error:\n",
    "            random_index = random.randrange(len(wrong_states))\n",
    "            return wrong_states[random_index]\n",
    "        else:\n",
    "            return correct_next_state  "
   ]
  },
  {
   "cell_type": "markdown",
   "metadata": {},
   "source": [
    "## Question 2: Write a function that returns the reward R(s) given input s."
   ]
  },
  {
   "cell_type": "code",
   "execution_count": 8,
   "metadata": {
    "collapsed": true
   },
   "outputs": [],
   "source": [
    "def reward(self, current_state):\n",
    "    # define the lengh and the width\n",
    "    length = width = 6\n",
    "    \n",
    "    # get the current x, y positions -- do not care about heading\n",
    "    current_x, current_y, _ = current_state.return_current_state\n",
    "    \n",
    "    # define the rewards\n",
    "    if current_x == 3 and current_y == 4:\n",
    "        reward = 1\n",
    "    if current_x == 0 or current_x == width-1:\n",
    "        reward = -100\n",
    "    if current_y == 0 or current_y == height-1:\n",
    "        reward = -100\n",
    "    if current_x == 2 or current_x == 4:\n",
    "        if current_y == 2 or current_y == 3 or current_y == 4:\n",
    "            reward = -1\n",
    "    return reward"
   ]
  },
  {
   "cell_type": "code",
   "execution_count": null,
   "metadata": {
    "collapsed": true
   },
   "outputs": [],
   "source": []
  }
 ],
 "metadata": {
  "kernelspec": {
   "display_name": "Python 3",
   "language": "python",
   "name": "python3"
  },
  "language_info": {
   "codemirror_mode": {
    "name": "ipython",
    "version": 3
   },
   "file_extension": ".py",
   "mimetype": "text/x-python",
   "name": "python",
   "nbconvert_exporter": "python",
   "pygments_lexer": "ipython3",
   "version": "3.6.3"
  }
 },
 "nbformat": 4,
 "nbformat_minor": 2
}
