{
 "cells": [
  {
   "cell_type": "code",
   "execution_count": 1,
   "metadata": {},
   "outputs": [],
   "source": [
    "import random\n",
    "import numpy as np\n",
    "import matplotlib.pyplot as plt"
   ]
  },
  {
   "cell_type": "markdown",
   "metadata": {},
   "source": [
    "## 1A: Initializing the state space"
   ]
  },
  {
   "cell_type": "code",
   "execution_count": 2,
   "metadata": {
    "collapsed": true
   },
   "outputs": [],
   "source": [
    "class State:\n",
    "    \n",
    "    def __init__(self, x_position, y_position, heading):\n",
    "        self.x_position = x_position\n",
    "        self.y_position = y_position\n",
    "        self.heading = heading\n",
    "        \n",
    "    def return_current_state(self):\n",
    "        return self.x_position, self.y_position, self.heading"
   ]
  },
  {
   "cell_type": "markdown",
   "metadata": {},
   "source": [
    "## 1B: Initializing the action space"
   ]
  },
  {
   "cell_type": "code",
   "execution_count": 3,
   "metadata": {
    "collapsed": true
   },
   "outputs": [],
   "source": [
    "class Action:\n",
    "    \n",
    "    def __init__(self, move, rotation):\n",
    "        self.move = move\n",
    "        self.rotation = rotation\n",
    "        \n",
    "    def return_action(self):\n",
    "        return self.move, self.rotation"
   ]
  },
  {
   "cell_type": "markdown",
   "metadata": {},
   "source": [
    "## 1C: Return the probabilty Psa(s') given pe, s, a, s'\n",
    "## 1D: return a next state s' given error probability pe, s, a"
   ]
  },
  {
   "cell_type": "markdown",
   "metadata": {
    "collapsed": true
   },
   "source": [
    "### This is the Markov decision process"
   ]
  },
  {
   "cell_type": "code",
   "execution_count": 34,
   "metadata": {
    "collapsed": true
   },
   "outputs": [],
   "source": [
    "class MarkovDecisionProcess:\n",
    "    \n",
    "    # get the length and the width of the space that we are in\n",
    "    def __init__(self, length, width):\n",
    "        self.length = length\n",
    "        self.width = width\n",
    "    \n",
    "    # check for bound violations\n",
    "    def check_bounds(self, next_x, next_y, current_x, current_y):\n",
    "        if (next_x < 0 or next_x >= self.width):\n",
    "            next_x = current_x\n",
    "        if (next_y < 0 or next_y >= self.length):\n",
    "            next_y = current_y\n",
    "        return next_x, next_y\n",
    "    \n",
    "    #define the directions\n",
    "    left = {8,9,10}\n",
    "    right = {2,3,4}\n",
    "    up = {11,0,1}\n",
    "    down = {5,6,7}\n",
    "    \n",
    "    # find out the next step --> returns next_x, next_y, next_heading\n",
    "    def next_state_compiled(self, state, action):\n",
    "        # get x, y and heading from state\n",
    "        current_x = state.x_position\n",
    "        current_y = state.y_position\n",
    "        current_heading = state.heading\n",
    "        \n",
    "        # get move and rotation from action\n",
    "        move = action.move\n",
    "        rotation = action.rotation\n",
    "        \n",
    "        # check if heading is left, need to only change x and not y\n",
    "        if current_heading in self.left:\n",
    "            next_x = current_x - move\n",
    "            next_y = current_y\n",
    "        \n",
    "        # check if heading is right, need to only change x and not y\n",
    "        elif current_heading in self.right:\n",
    "            next_x = current_x + move\n",
    "            next_y = current_y\n",
    "        \n",
    "        # check if heading is up, need to only change y and not x\n",
    "        elif current_heading in self.up:\n",
    "            next_x = current_x\n",
    "            next_y = current_y + move\n",
    "        \n",
    "        # check if heading is down, need to only change y and not x\n",
    "        else:\n",
    "            next_x = current_x\n",
    "            next_y = current_y - move\n",
    "        \n",
    "        # need to check the bounds\n",
    "        next_x, next_y = self.check_bounds(next_x, next_y, current_x, current_y)\n",
    "        \n",
    "        # finally, need to accomodate for the rotation in heading\n",
    "        next_heading = (current_heading + rotation) % 12\n",
    "        \n",
    "        return next_x, next_y, next_heading\n",
    "    \n",
    "    # find out the next step for the movements that have the prob of error\n",
    "    def next_state_individualized(self, current_x, current_y, current_heading, move, rotation):\n",
    "        # check if heading is left, need to only change x and not y\n",
    "        if current_heading in self.left:\n",
    "            next_x = current_x - move\n",
    "            next_y = current_y\n",
    "        \n",
    "        # check if heading is right, need to only change x and not y\n",
    "        elif current_heading in self.right:\n",
    "            next_x = current_x + move\n",
    "            next_y = current_y\n",
    "        \n",
    "        # check if heading is up, need to only change y and not x\n",
    "        elif current_heading in self.up:\n",
    "            next_x = current_x\n",
    "            next_y = current_y + move\n",
    "        \n",
    "        # check if heading is down, need to only change y and not x\n",
    "        else:\n",
    "            next_x = current_x\n",
    "            next_y = current_y - move\n",
    "        \n",
    "        # need to check the bounds\n",
    "        \n",
    "        next_x, next_y = self.check_bounds(next_x, next_y, current_x, current_y)\n",
    "        \n",
    "        # finally, need to accomodate for the rotation in heading\n",
    "        next_heading = (current_heading + rotation) % 12\n",
    "        \n",
    "        return next_x, next_y, next_heading\n",
    "    \n",
    "    # find out the transition probabilities\n",
    "    def transition_probabilities(self, prob_of_error, action, current_state, next_state):\n",
    "        # get move and rotation from action\n",
    "        move = action.move\n",
    "        rotation = action.rotation\n",
    "        \n",
    "        # if we do not move, current state should equal next state. \n",
    "        if move == 0:\n",
    "            if current_state.return_current_state() == next_state.return_current_state:\n",
    "                return 1\n",
    "            else:\n",
    "                return 0\n",
    "        \n",
    "        # in the case that we do move, need to account for the error probabilities\n",
    "        \n",
    "        if next_state.return_current_state() == self.next_state_compiled(current_state, action):\n",
    "            return 1-(2*prob_of_error)\n",
    "        else:\n",
    "            current_x = current_state.x_position\n",
    "            current_y = current_state.y_position\n",
    "            current_heading = current_state.heading\n",
    "\n",
    "            # need to check to return the prob of error\n",
    "            if next_state.return_current_state() == self.next_state_individualized(current_x, current_y, (current_heading-1)%12, move, rotation):\n",
    "                return prob_of_error\n",
    "\n",
    "            if next_state.return_current_state() == self.next_state_individualized(current_x, current_y, (current_heading+1)%12, move, rotation):\n",
    "                return prob_of_error\n",
    "        \n",
    "        return 0\n",
    "    \n",
    "    number_of_headings = 12\n",
    "    \n",
    "    # Part 1D\n",
    "    def compute_next_state(self, prob_of_error, current_state, action):\n",
    "        \n",
    "        wrong_states = []\n",
    "        # need to loop through all of the values of x, y and heading\n",
    "        for i in range(self.length):\n",
    "            for j in range(self.width):\n",
    "                for k in range(self.number_of_headings):\n",
    "                    # define the next state\n",
    "                    next_state = State(i,j,k)\n",
    "                    # find the transition probability between current state and the next state\n",
    "                    prob_of_transition = self.transition_probabilities(prob_of_error, action, current_state, next_state)\n",
    "                    # if the probability of transitioning does not equal 0, then only do we proceed. If 0, do not care\n",
    "                    if prob_of_transition != 0:\n",
    "                        # if our transition probabilty is the probability of error, it means that there was an error. Need to keep track of these next state values\n",
    "                        if prob_of_transition == prob_of_error:\n",
    "                            wrong_states.append(next_state)\n",
    "                        else:\n",
    "                            correct_next_state = next_state\n",
    "        # if I choose a random number between 0 and 1 and my number is less than 2*prob_of_error, I move in the wrong direction. If not, I move in the correct direction.\n",
    "        random_number_generated = np.random.uniform(0,1)\n",
    "        if random_number_generated < 2*prob_of_error:\n",
    "            random_index = random.randrange(len(wrong_states))\n",
    "            return wrong_states[random_index]\n",
    "        else:\n",
    "            return correct_next_state"
   ]
  },
  {
   "cell_type": "markdown",
   "metadata": {},
   "source": [
    "## Test question 1"
   ]
  },
  {
   "cell_type": "code",
   "execution_count": 35,
   "metadata": {},
   "outputs": [
    {
     "name": "stdout",
     "output_type": "stream",
     "text": [
      "(1, 2, 0)\n"
     ]
    }
   ],
   "source": [
    "r = MarkovDecisionProcess(6,6)\n",
    "s = State(1,1,0)\n",
    "f = Action(1,0)\n",
    "\n",
    "print(r.compute_next_state(0.1, s, f).return_current_state())"
   ]
  },
  {
   "cell_type": "markdown",
   "metadata": {},
   "source": [
    "## Question 2: Write a function that returns the reward R(s) given input s."
   ]
  },
  {
   "cell_type": "code",
   "execution_count": 36,
   "metadata": {
    "collapsed": true
   },
   "outputs": [],
   "source": [
    "def reward(self, current_state):\n",
    "    # define the lengh and the width\n",
    "    length = width = 6\n",
    "    \n",
    "    # get the current x, y positions -- do not care about heading\n",
    "    current_x, current_y, _ = current_state.return_current_state\n",
    "    \n",
    "    # define the rewards\n",
    "    if current_x == 3 and current_y == 4:\n",
    "        reward = 1\n",
    "    if current_x == 0 or current_x == width-1:\n",
    "        reward = -100\n",
    "    if current_y == 0 or current_y == height-1:\n",
    "        reward = -100\n",
    "    if current_x == 2 or current_x == 4:\n",
    "        if current_y == 2 or current_y == 3 or current_y == 4:\n",
    "            reward = -1\n",
    "    return reward"
   ]
  },
  {
   "cell_type": "markdown",
   "metadata": {},
   "source": [
    "## Question 3a: Create and populate a matrix/array that stores the action a = pi0(s) prescribed by the initial policy pi0 when indexed by state s."
   ]
  },
  {
   "cell_type": "code",
   "execution_count": 44,
   "metadata": {},
   "outputs": [],
   "source": [
    "class Policy_Matrix:\n",
    "    def __init__(self, given_policy=None):\n",
    "        if given_policy == None:\n",
    "            up = {11, 0, 1}\n",
    "            right = {2, 3, 4}\n",
    "            down = {5, 6, 7}\n",
    "            left = {8, 9, 10}\n",
    "\n",
    "            mat_up    = [[None for x in range(6)] for y in range(6)]\n",
    "            mat_down  = [[None for x in range(6)] for y in range(6)]\n",
    "            mat_left  = [[None for x in range(6)] for y in range(6)]\n",
    "            mat_right = [[None for x in range(6)] for y in range(6)]\n",
    "\n",
    "            rot = 0 # rotation (none-0,left-1,right-2)\n",
    "            mov = 0 # move (none-0,back-1,forward-2)\n",
    "\n",
    "            # populate up matrix\n",
    "            for x in range(6):\n",
    "                for y in range(6):\n",
    "                    # determine rotation\n",
    "                    if (x<3): # goal on right\n",
    "                        rot = 2\n",
    "                    elif (x>3): # goal on left\n",
    "                        rot = 1\n",
    "                    else:\n",
    "                        rot = 0\n",
    "                    # determine move\n",
    "                    if (y<=4):\n",
    "                        mov = 2\n",
    "                    else:\n",
    "                        mov = 1\n",
    "                    # on goal\n",
    "                    if (x==3 and y==4):\n",
    "                        rot = 0\n",
    "                        mov = 0\n",
    "                    mat_up[x][y] = mov, rot\n",
    "\n",
    "            # populate down matrix\n",
    "            for x in range(6):\n",
    "                for y in range(6):\n",
    "                    # determine rotation\n",
    "                    if (x<3): # goal on left\n",
    "                        rot = 1\n",
    "                    elif (x>3): # goal on right\n",
    "                        rot = 2\n",
    "                    else:\n",
    "                        rot = 0\n",
    "                    # determine move\n",
    "                    if (y<=3):\n",
    "                        mov = 1\n",
    "                    else:\n",
    "                        mov = 2\n",
    "                    # on goal\n",
    "                    if (x==3 and y==4):\n",
    "                        rot = 0\n",
    "                        mov = 0\n",
    "                    mat_down[x][y] = mov, rot\n",
    "\n",
    "            # populate right matrix\n",
    "            for x in range(6):\n",
    "                for y in range(6):\n",
    "                    # determine rotation\n",
    "                    if(y>4): # goal on right\n",
    "                        rot = 2\n",
    "                    elif(y<4): # goal on left\n",
    "                        rot = 1\n",
    "                    else:\n",
    "                        rot = 0\n",
    "                    # determine move\n",
    "                    if(x<4):\n",
    "                        mov = 2\n",
    "                    else:\n",
    "                        mov = 1\n",
    "                    # on goal\n",
    "                    if (x==3 and y==4):\n",
    "                        rot = 0\n",
    "                        mov = 0\n",
    "                    mat_right[x][y] = mov, rot\n",
    "\n",
    "            # populate left matrix\n",
    "            for x in range(6):\n",
    "                for y in range(6):\n",
    "                    # determine rotation\n",
    "                    if(y>4): # goal on left\n",
    "                        rot = 1\n",
    "                    elif(y<4): # goal on right\n",
    "                        rot = 2\n",
    "                    else:\n",
    "                        rot = 0\n",
    "                    # determine move\n",
    "                    if(x<3):\n",
    "                        mov = 1\n",
    "                    else:\n",
    "                        mov = 2\n",
    "                    # on goal\n",
    "                    if (x==3 and y==4):\n",
    "                        rot = 0\n",
    "                        mov = 0\n",
    "                    mat_left[x][y] = mov, rot\n",
    "\n",
    "            # matrix for each heading degree\n",
    "            self.pol_mat = [[]]*12\n",
    "            for heading in range(12):\n",
    "                if heading in up:\n",
    "                    self.pol_mat[heading] = mat_up\n",
    "                elif heading in down:\n",
    "                    self.pol_mat[heading] = mat_down\n",
    "                elif heading in left:\n",
    "                    self.pol_mat[heading] = mat_left\n",
    "                else:\n",
    "                    self.pol_mat[heading] = mat_right\n",
    "        else:\n",
    "            self.pol_mat = given_policy\n",
    "            \n",
    "    def policy_action(self, current_state):        \n",
    "        pos_x = current_state.x_position\n",
    "        pos_y = current_state.y_position\n",
    "        heading = current_state.heading\n",
    "        return self.pol_mat[heading][pos_x][pos_y]\n",
    "\n",
    "if __name__ == \"__main__\":\n",
    "    pi_0 = Policy_Matrix()\n",
    "#     print(pi_0.pol_mat)"
   ]
  },
  {
   "cell_type": "markdown",
   "metadata": {
    "collapsed": true
   },
   "source": [
    "## Question 3b: Write a function to generate and plot a trajectory of a robot given policy matrix/array \u0019, initial state s0, and error probability pe."
   ]
  },
  {
   "cell_type": "code",
   "execution_count": 45,
   "metadata": {
    "collapsed": true
   },
   "outputs": [],
   "source": [
    "def compute_trajectory(policy, current_state, prob_of_error):\n",
    "    # initialize the trajectory\n",
    "    full_trajectory = []\n",
    "    # get the current x and y position\n",
    "    current_x, current_y, _ = current_state.return_current_state()\n",
    "    # append the current x and y to the trajectory as an array\n",
    "    full_trajectory.append([current_x, current_y])\n",
    "    \n",
    "    # keep looping till we get to the goal\n",
    "    while current_x != 3 or current_y != 4:\n",
    "        move_from_policy, rotation_from_policy = Policy_Matrix().policy_action(current_state)\n",
    "        if move_from_policy == 0:\n",
    "            move = 0\n",
    "        if move_from_policy == 1:\n",
    "            move = -1\n",
    "        if move_from_policy == 2:\n",
    "            move = 1\n",
    "        if rotation_from_policy == 0:\n",
    "            rotation = 0\n",
    "        if rotation_from_policy == 1:\n",
    "            rotation = -1\n",
    "        if rotation_from_policy == 2:\n",
    "            rotation = 1\n",
    "        action = Action(move, rotation)\n",
    "        next_state = MarkovDecisionProcess(6,6).compute_next_state(prob_of_error, current_state, action)\n",
    "        current_x, current_y, _ = next_state.return_current_state()\n",
    "        full_trajectory.append([current_x, current_y])\n",
    "        print(full_trajectory)\n",
    "        current_state = next_state\n",
    "        \n",
    "    \n",
    "    # to plot the trajectory, we need to plot out the full trajectory\n",
    "    for x,y in full_trajectory:\n",
    "        plt.scatter(x,y,marker=\"o\", color=\"red\")\n",
    "    plt.show()"
   ]
  },
  {
   "cell_type": "markdown",
   "metadata": {},
   "source": [
    "## Question 3c:"
   ]
  },
  {
   "cell_type": "code",
   "execution_count": 46,
   "metadata": {},
   "outputs": [
    {
     "name": "stdout",
     "output_type": "stream",
     "text": [
      "[[1, 4], [1, 3]]\n",
      "[[1, 4], [1, 3], [1, 4]]\n",
      "[[1, 4], [1, 3], [1, 4], [2, 4]]\n",
      "[[1, 4], [1, 3], [1, 4], [2, 4], [3, 4]]\n"
     ]
    },
    {
     "data": {
      "image/png": "[encoded data removed]",
      "text/plain": [
       "<matplotlib.figure.Figure at 0x10caf64a8>"
      ]
     },
     "metadata": {},
     "output_type": "display_data"
    }
   ],
   "source": [
    "pi_0 = Policy_Matrix()\n",
    "current_state = State(1,4,6)\n",
    "compute_trajectory(pi_0, current_state, 0)"
   ]
  },
  {
   "cell_type": "markdown",
   "metadata": {},
   "source": [
    "## Question 3d:"
   ]
  },
  {
   "cell_type": "code",
   "execution_count": null,
   "metadata": {
    "collapsed": true
   },
   "outputs": [],
   "source": []
  }
 ],
 "metadata": {
  "kernelspec": {
   "display_name": "Python 3",
   "language": "python",
   "name": "python3"
  },
  "language_info": {
   "codemirror_mode": {
    "name": "ipython",
    "version": 3
   },
   "file_extension": ".py",
   "mimetype": "text/x-python",
   "name": "python",
   "nbconvert_exporter": "python",
   "pygments_lexer": "ipython3",
   "version": "3.6.3"
  }
 },
 "nbformat": 4,
 "nbformat_minor": 2
}
